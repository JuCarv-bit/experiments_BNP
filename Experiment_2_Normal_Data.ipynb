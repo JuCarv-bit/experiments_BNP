{
  "nbformat": 4,
  "nbformat_minor": 0,
  "metadata": {
    "colab": {
      "provenance": [],
      "gpuType": "T4"
    },
    "kernelspec": {
      "name": "ir",
      "display_name": "R"
    },
    "language_info": {
      "name": "R"
    }
  },
  "cells": [
    {
      "cell_type": "code",
      "source": [
        "system(\"apt-get install -y jags\")\n",
        "install.packages(\"rjags\")\n",
        "install.packages(\"coda\")\n",
        "\n"
      ],
      "metadata": {
        "colab": {
          "base_uri": "https://localhost:8080/"
        },
        "id": "meC9xmy8FHmz",
        "outputId": "aaacec05-4e46-4a28-9d12-1cf9418f9274"
      },
      "execution_count": 1,
      "outputs": [
        {
          "output_type": "stream",
          "name": "stderr",
          "text": [
            "Installing package into ‘/usr/local/lib/R/site-library’\n",
            "(as ‘lib’ is unspecified)\n",
            "\n",
            "Installing package into ‘/usr/local/lib/R/site-library’\n",
            "(as ‘lib’ is unspecified)\n",
            "\n"
          ]
        }
      ]
    },
    {
      "cell_type": "code",
      "source": [
        "install.packages(\"reshape2\") # Install the package to fix the error."
      ],
      "metadata": {
        "colab": {
          "base_uri": "https://localhost:8080/"
        },
        "id": "kPPpopfhndsG",
        "outputId": "96b68c5b-19ef-4096-9936-ec15a6ea9eaa"
      },
      "execution_count": 2,
      "outputs": [
        {
          "output_type": "stream",
          "name": "stderr",
          "text": [
            "Installing package into ‘/usr/local/lib/R/site-library’\n",
            "(as ‘lib’ is unspecified)\n",
            "\n",
            "also installing the dependency ‘plyr’\n",
            "\n",
            "\n"
          ]
        }
      ]
    },
    {
      "cell_type": "code",
      "source": [
        "### Variable selection illustration in Section 5.2\n",
        "\n",
        "\n",
        "# Predictive resampling with penalty and \"blockstrapping\"\n",
        "resample <- function(X, Y, method, blocks){\n",
        "  data.trial <- data.frame(cbind(Y, X))\n",
        "  X = data.frame(X)\n",
        "  for(block in 1:blocks){\n",
        "    model.low = lm(Y~1, data=data.trial)\n",
        "    if(method == \"AIC\") {pen=2} else {pen=log(nrow(data.trial))}\n",
        "    model.step = stepAIC(model.low, direction=\"forward\", k=pen, trace=FALSE,\n",
        "                         scope=list(lower=model.low, upper=lm(Y~., data=data.trial)))\n",
        "    Y.pred = predict(model.step, X, se=T)\n",
        "    if(sum(is.na(Y.pred$se.fit)) > 0){\n",
        "      Y.new = Y.pred$fit\n",
        "    } else {\n",
        "      Y.new = rnorm(length(Y), Y.pred$fit, Y.pred$se.fit)\n",
        "    }\n",
        "    data.imp = cbind(Y.new, X)\n",
        "    colnames(data.imp)[1] = \"Y\"\n",
        "    data.trial = rbind(data.trial, data.imp)\n",
        "  }\n",
        "  model.vars <- names(coef(model.step))\n",
        "  model.vars <- gsub(\"X\", \"\", model.vars[grep(\"X\", model.vars)])\n",
        "  print(method)\n",
        "  return(as.numeric(model.vars))\n",
        "}\n",
        "\n",
        "\n",
        "# Define JAGS model as a string\n",
        "model_string <- \"\n",
        "model {\n",
        "  for (i in 1:N) {\n",
        "    y[i] ~ dnorm(mu[i], tau)\n",
        "    mu[i] <- beta0 + sum(beta[1:K] * X[i, 1:K] * gamma[1:K])\n",
        "  }\n",
        "\n",
        "  beta0 ~ dnorm(0, 0.01)\n",
        "  tau ~ dgamma(0.01, 0.01)\n",
        "  sigma <- 1 / sqrt(tau)\n",
        "\n",
        "  for (j in 1:K) {\n",
        "    gamma[j] ~ dbern(0.5)\n",
        "    beta[j] ~ dnorm(0, 0.01)\n",
        "  }\n",
        "}\n",
        "\"\n",
        "\n",
        "# Gibbs sampling approximation of RJ-MCMC\n",
        "jump <- function(X, Y){\n",
        "  jags.data <- list(\"N\" = length(Y), \"K\" = k, \"X\" = X, \"y\" = Y)\n",
        "  # model.path = \"gibbs.jags\" # specify correctly\n",
        "  init.values <- function() {\n",
        "    list(\n",
        "      beta0 = rnorm(1), # intercept parameter\n",
        "      beta = rnorm(k), # individual coefficients\n",
        "      tau = max(rgamma(1, 0.01, 0.01), 1e-200), # noise variance\n",
        "      gamma = rbinom(k, 1, 0.5) # inclusion of coefficient\n",
        "    )\n",
        "  }\n",
        "  parameters <- c(\"beta\", \"gamma\")\n",
        "\n",
        "  model <- jags.model(file = textConnection(model_string), data = jags.data,\n",
        "                      inits = init.values, n.chains = 3, n.adapt = 1000)\n",
        "  update(model, 5000) # burn-in period\n",
        "  samples <- coda.samples(model, variable.names = parameters, n.iter = 10000, thin = 10)\n",
        "  samples.matrix <- as.matrix(samples)\n",
        "  gamma.samples <- samples.matrix[, grep(\"^gamma\", colnames(samples.matrix))]\n",
        "  return(colMeans(gamma.samples))\n",
        "}\n",
        "\n",
        "\n"
      ],
      "metadata": {
        "id": "bKDL6T6OEjlI"
      },
      "execution_count": 3,
      "outputs": []
    },
    {
      "cell_type": "markdown",
      "source": [
        "# Test with true X data (without measurement error)"
      ],
      "metadata": {
        "id": "cevSl8pkFpMM"
      }
    },
    {
      "cell_type": "code",
      "execution_count": 4,
      "metadata": {
        "colab": {
          "base_uri": "https://localhost:8080/"
        },
        "id": "J_42TLaE--zT",
        "outputId": "4e4c4cfa-de9c-4872-ac72-9526747703a4"
      },
      "outputs": [
        {
          "output_type": "stream",
          "name": "stderr",
          "text": [
            "\n",
            "Attaching package: ‘dplyr’\n",
            "\n",
            "\n",
            "The following object is masked from ‘package:MASS’:\n",
            "\n",
            "    select\n",
            "\n",
            "\n",
            "The following objects are masked from ‘package:stats’:\n",
            "\n",
            "    filter, lag\n",
            "\n",
            "\n",
            "The following objects are masked from ‘package:base’:\n",
            "\n",
            "    intersect, setdiff, setequal, union\n",
            "\n",
            "\n",
            "Loading required package: coda\n",
            "\n",
            "Linked to JAGS 4.3.2\n",
            "\n",
            "Loaded modules: basemod,bugs\n",
            "\n"
          ]
        },
        {
          "output_type": "stream",
          "name": "stdout",
          "text": [
            "[1] 1\n",
            "[1] \"2025-03-06 18:11:30 UTC\"\n",
            "[1] \"BIC\"\n",
            "[1] \"AIC\"\n",
            "Compiling model graph\n",
            "   Resolving undeclared variables\n",
            "   Allocating nodes\n",
            "Graph information:\n",
            "   Observed stochastic nodes: 20\n",
            "   Unobserved stochastic nodes: 42\n",
            "   Total graph size: 552\n",
            "\n",
            "Initializing model\n",
            "\n",
            "[1] \"BIC\"\n",
            "[1] \"AIC\"\n",
            "Compiling model graph\n",
            "   Resolving undeclared variables\n",
            "   Allocating nodes\n",
            "Graph information:\n",
            "   Observed stochastic nodes: 100\n",
            "   Unobserved stochastic nodes: 42\n",
            "   Total graph size: 2552\n",
            "\n",
            "Initializing model\n",
            "\n",
            "[1] 2\n",
            "[1] \"2025-03-06 18:15:16 UTC\"\n",
            "[1] \"BIC\"\n",
            "[1] \"AIC\"\n",
            "Compiling model graph\n",
            "   Resolving undeclared variables\n",
            "   Allocating nodes\n",
            "Graph information:\n",
            "   Observed stochastic nodes: 20\n",
            "   Unobserved stochastic nodes: 42\n",
            "   Total graph size: 552\n",
            "\n",
            "Initializing model\n",
            "\n",
            "[1] \"BIC\"\n",
            "[1] \"AIC\"\n",
            "Compiling model graph\n",
            "   Resolving undeclared variables\n",
            "   Allocating nodes\n",
            "Graph information:\n",
            "   Observed stochastic nodes: 100\n",
            "   Unobserved stochastic nodes: 42\n",
            "   Total graph size: 2552\n",
            "\n",
            "Initializing model\n",
            "\n"
          ]
        }
      ],
      "source": [
        "### Variable selection illustration in Section 5.2\n",
        "\n",
        "library(MASS)\n",
        "library(ggplot2)\n",
        "library(reshape2)\n",
        "library(dplyr)\n",
        "library(rjags)\n",
        "library(scales)\n",
        "\n",
        "n.tests = c(20, 100)\n",
        "k = 20\n",
        "trials = 2\n",
        "blocks = 10\n",
        "\n",
        "sel.bic = matrix(0, nrow=length(n.tests), ncol=k)\n",
        "rownames(sel.bic) = n.tests\n",
        "colnames(sel.bic) = paste(\"X\", 1:k, sep=\"\")\n",
        "sel.aic = sel.bic\n",
        "sel.rjm = array(0, dim=c(length(n.tests), k, trials))\n",
        "\n",
        "sigma_X <- 0.5  # Adjust this value as needed\n",
        "\n",
        "# Direct comparison of methods with regenerated data\n",
        "for(trial in 1:trials){\n",
        "  print(trial)\n",
        "  print(Sys.time())\n",
        "  for(i in seq_along(n.tests)){\n",
        "    n.test = n.tests[i]\n",
        "\n",
        "    # Generate the true predictor data\n",
        "    true_X <- matrix(rnorm(n.test * k), ncol = k)\n",
        "    colnames(true_X) <- paste(\"X\", 1:k, sep=\"\")\n",
        "\n",
        "    Xobs <- true_X\n",
        "\n",
        "    colnames(Xobs) <- colnames(sel.bic)\n",
        "    beta <- c(rep(1, 5), rep(0, 15))\n",
        "    Y <- as.numeric(Xobs %*% beta + rnorm(n.test))\n",
        "\n",
        "    vars.bic = resample(Xobs, Y, \"BIC\", blocks)\n",
        "    sel.bic[i, vars.bic] <- sel.bic[i, vars.bic] + 1\n",
        "    vars.aic = resample(Xobs, Y, \"AIC\", blocks)\n",
        "    sel.aic[i, vars.aic] <- sel.aic[i, vars.aic] + 1\n",
        "    weights.rjm = jump(Xobs, Y)\n",
        "    sel.rjm[i,,trial] <- weights.rjm\n",
        "  }\n",
        "}\n"
      ]
    },
    {
      "cell_type": "code",
      "source": [
        "# Load necessary libraries\n",
        "library(ggplot2)\n",
        "library(reshape2)\n",
        "\n",
        "# Normalize selection frequencies\n",
        "sel.bic2 = sel.bic / trials\n",
        "sel.aic2 = sel.aic / trials\n",
        "sel.rj12 = apply(sel.rjm, c(1, 2), function(x) mean(x))  # Average Gibbs selection probability\n",
        "\n",
        "# Convert matrices to data frames and add 'n' as a column\n",
        "df_bic <- data.frame(n = c(20, 100), sel.bic2)\n",
        "df_aic <- data.frame(n = c(20, 100), sel.aic2)\n",
        "df_rj1 <- data.frame(n = c(20, 100), sel.rj12)  # Gibbs selection probabilities\n",
        "\n",
        "# Convert to long format with correct ID variable\n",
        "bic_long <- melt(df_bic, id.vars = \"n\", variable.name = \"Variable\", value.name = \"Selection_Probability\")\n",
        "aic_long <- melt(df_aic, id.vars = \"n\", variable.name = \"Variable\", value.name = \"Selection_Probability\")\n",
        "rjmcmc_long <- melt(df_rj1, id.vars = \"n\", variable.name = \"Variable\", value.name = \"Selection_Probability\")\n",
        "\n",
        "# Add method labels\n",
        "bic_long$Method <- \"BIC\"\n",
        "aic_long$Method <- \"AIC\"\n",
        "rjmcmc_long$Method <- \"RJ-MCMC Gibbs\"\n",
        "\n",
        "# Combine all methods into one dataset\n",
        "all_data <- rbind(bic_long, aic_long, rjmcmc_long)\n",
        "\n",
        "# Convert `n` to factor\n",
        "all_data$n <- factor(all_data$n, levels = c(\"20\", \"100\"))\n",
        "\n",
        "# Function to generate and save separate plots for each n\n",
        "plot_and_save <- function(n_value, file_name) {\n",
        "  plot_data <- subset(all_data, n == n_value)\n",
        "\n",
        "  plot <- ggplot(plot_data, aes(x = Variable, y = Selection_Probability, fill = Method)) +\n",
        "    geom_bar(stat = \"identity\", position = position_dodge()) +\n",
        "    theme_minimal() +\n",
        "    labs(y = \"Selection Probability\", x = \"Variable\") +  # No title\n",
        "    scale_fill_manual(values = c(\"BIC\" = \"#CCF275\", \"AIC\" = \"#F275AC\", \"RJ-MCMC Gibbs\" = \"#8B7CF8\")) +  # Neutral colors\n",
        "    theme(\n",
        "      axis.text.x = element_text(angle = 90, vjust = 0.5, hjust = 1, size = 7),  # Smaller x-axis labels\n",
        "      axis.text.y = element_text(size = 7),  # Smaller y-axis labels\n",
        "      legend.position = \"top\",  # Legend on top to save space\n",
        "      legend.text = element_text(size = 8),  # Smaller legend text\n",
        "      legend.key.size = unit(0.4, \"cm\"),  # Smaller legend squares\n",
        "      legend.margin = margin(0, 0, 0, 0)  # Reduce legend padding\n",
        "    )\n",
        "\n",
        "  # Print the plot to ensure it's rendered\n",
        "  print(plot)\n",
        "\n",
        "  # Save the plot with improved size\n",
        "  ggsave(file_name, plot = plot, width = 15, height = 6, units = \"cm\", dpi = 300)\n",
        "}\n",
        "\n",
        "# Generate and save separate plots\n",
        "plot_and_save(20, \"variable_selection_n20.png\")\n",
        "plot_and_save(100, \"variable_selection_n100.png\")\n"
      ],
      "metadata": {
        "colab": {
          "base_uri": "https://localhost:8080/",
          "height": 857
        },
        "id": "DWhsr1wegUCY",
        "outputId": "bd72075e-6502-4ce0-a3ae-5ebca1705c04"
      },
      "execution_count": 6,
      "outputs": [
        {
          "output_type": "display_data",
          "data": {
            "text/plain": [
              "plot without title"
            ],
            "image/png": "[encoded data removed]"
          },
          "metadata": {
            "image/png": {
              "width": 420,
              "height": 420
            }
          }
        },
        {
          "output_type": "display_data",
          "data": {
            "text/plain": [
              "plot without title"
            ],
            "image/png": "[encoded data removed]"
          },
          "metadata": {
            "image/png": {
              "width": 420,
              "height": 420
            }
          }
        }
      ]
    }
  ]
}